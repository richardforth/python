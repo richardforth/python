{
 "cells": [
  {
   "cell_type": "markdown",
   "id": "f4dd4eb4-c703-45c2-99c5-63d1c2cd365b",
   "metadata": {},
   "source": [
    "# Notes on Chapter 2\n",
    "## *An array of sequences*"
   ]
  },
  {
   "cell_type": "code",
   "execution_count": null,
   "id": "3e3cbc08-4670-41af-b4ce-e62767189292",
   "metadata": {},
   "outputs": [],
   "source": []
  }
 ],
 "metadata": {
  "kernelspec": {
   "display_name": "Python 3 (ipykernel)",
   "language": "python",
   "name": "python3"
  },
  "language_info": {
   "codemirror_mode": {
    "name": "ipython",
    "version": 3
   },
   "file_extension": ".py",
   "mimetype": "text/x-python",
   "name": "python",
   "nbconvert_exporter": "python",
   "pygments_lexer": "ipython3",
   "version": "3.13.5"
  }
 },
 "nbformat": 4,
 "nbformat_minor": 5
}
