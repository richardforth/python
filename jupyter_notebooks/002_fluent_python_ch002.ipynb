{
 "cells": [
  {
   "cell_type": "markdown",
   "id": "f4dd4eb4-c703-45c2-99c5-63d1c2cd365b",
   "metadata": {},
   "source": [
    "# Notes on Chapter 2\n",
    "## *An array of sequences*"
   ]
  },
  {
   "cell_type": "markdown",
   "id": "886cb20c-e230-4adb-a827-0313d751d5be",
   "metadata": {},
   "source": [
    "Link to post on [Managing Ordered Sequences with bisect](https://fpy.li/bisect) which was removed from 1st edition to make space fore new content (the book is a hefty tome).\n"
   ]
  },
  {
   "cell_type": "markdown",
   "id": "ebdd1585-a979-4d55-8519-5399e868ee76",
   "metadata": {},
   "source": [
    "**SortedCollection** [python recipe](https://code.activestate.com/recipes/577197-sortedcollection/)\n",
    "\n",
    "For many uses of bisect(), this module is much easier to use."
   ]
  },
  {
   "cell_type": "markdown",
   "id": "61b89384-cc6e-462c-b813-d642ddb96e67",
   "metadata": {},
   "source": [
    "creat a directory called `mymodules` for example, then refer to it in your `PYTHONPATH`\n",
    "\n",
    "> export PYTHONPATH=\"/full/path/to/mymodules:$PYTHONPATH\"\n",
    "\n",
    "then in your python code:\n",
    "\n",
    "> from sortedcollection import SortedCollection\n",
    "\n",
    "\n",
    "Examples from the recipe page documentation comments:\n",
    "\n",
    "```\n",
    "    >>> from pprint import pprint\n",
    "    >>> from operator import itemgetter\n",
    "\n",
    "    >>> s = SortedCollection(key=itemgetter(2))\n",
    "    >>> for record in [\n",
    "    ...         ('roger', 'young', 30),\n",
    "    ...         ('angela', 'jones', 28),\n",
    "    ...         ('bill', 'smith', 22),\n",
    "    ...         ('david', 'thomas', 32)]:\n",
    "    ...     s.insert(record)\n",
    "\n",
    "    >>> pprint(list(s))         # show records sorted by age\n",
    "    [('bill', 'smith', 22),\n",
    "     ('angela', 'jones', 28),\n",
    "     ('roger', 'young', 30),\n",
    "     ('david', 'thomas', 32)]\n",
    "\n",
    "    >>> s.find_le(29)           # find oldest person aged 29 or younger\n",
    "    ('angela', 'jones', 28)\n",
    "    >>> s.find_lt(28)           # find oldest person under 28\n",
    "    ('bill', 'smith', 22)\n",
    "    >>> s.find_gt(28)           # find youngest person over 28\n",
    "    ('roger', 'young', 30)\n",
    "\n",
    "    >>> r = s.find_ge(32)       # find youngest person aged 32 or older\n",
    "    >>> s.index(r)              # get the index of their record\n",
    "    3\n",
    "    >>> s[3]                    # fetch the record at that index\n",
    "    ('david', 'thomas', 32)\n",
    "\n",
    "    >>> s.key = itemgetter(0)   # now sort by first name\n",
    "    >>> pprint(list(s))\n",
    "    [('angela', 'jones', 28),\n",
    "     ('bill', 'smith', 22),\n",
    "     ('david', 'thomas', 32),\n",
    "     ('roger', 'young', 30)]\n",
    "```"
   ]
  },
  {
   "cell_type": "code",
   "execution_count": 1,
   "id": "8f7f2023-d9e8-4e0a-a5e6-beddcdece71c",
   "metadata": {},
   "outputs": [
    {
     "data": {
      "text/plain": [
       "[33, 64, 35, 36, 37, 94]"
      ]
     },
     "execution_count": 1,
     "metadata": {},
     "output_type": "execute_result"
    }
   ],
   "source": [
    "'''\n",
    "List Comprehensions\n",
    "'''\n",
    "symbols = '!@#$%^'\n",
    "codes = []\n",
    "for symbol in symbols:\n",
    "    codes.append(ord(symbol))\n",
    "\n",
    "codes"
   ]
  },
  {
   "cell_type": "code",
   "execution_count": 4,
   "id": "c26a90b6-ef96-4377-971f-3f8e586b9ed4",
   "metadata": {},
   "outputs": [
    {
     "data": {
      "text/plain": [
       "[33, 64, 35, 36, 37, 94]"
      ]
     },
     "execution_count": 4,
     "metadata": {},
     "output_type": "execute_result"
    }
   ],
   "source": [
    "symbols = '!@#$%^'\n",
    "codes = [ord(symbol) for symbol in symbols]\n",
    "codes"
   ]
  },
  {
   "cell_type": "code",
   "execution_count": null,
   "id": "0723ab51-1f98-45fd-a88b-837d0b583827",
   "metadata": {},
   "outputs": [],
   "source": []
  }
 ],
 "metadata": {
  "kernelspec": {
   "display_name": "Python 3 (ipykernel)",
   "language": "python",
   "name": "python3"
  },
  "language_info": {
   "codemirror_mode": {
    "name": "ipython",
    "version": 3
   },
   "file_extension": ".py",
   "mimetype": "text/x-python",
   "name": "python",
   "nbconvert_exporter": "python",
   "pygments_lexer": "ipython3",
   "version": "3.10.12"
  }
 },
 "nbformat": 4,
 "nbformat_minor": 5
}
