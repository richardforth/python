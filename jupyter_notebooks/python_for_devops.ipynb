{
 "cells": [
  {
   "cell_type": "code",
   "execution_count": 2,
   "id": "ca91a5f6-2179-4cc8-969d-e4c82d3b5403",
   "metadata": {},
   "outputs": [
    {
     "data": {
      "text/plain": [
       "7"
      ]
     },
     "execution_count": 2,
     "metadata": {},
     "output_type": "execute_result"
    }
   ],
   "source": [
    "'''\n",
    "Procedural Programming\n",
    "'''\n",
    "i = 3\n",
    "j = i + 1\n",
    "i + j"
   ]
  },
  {
   "cell_type": "code",
   "execution_count": 5,
   "id": "56d70ee5-9cc6-4c56-aa30-cb87cb0a599e",
   "metadata": {},
   "outputs": [
    {
     "data": {
      "text/plain": [
       "'rex'"
      ]
     },
     "execution_count": 5,
     "metadata": {},
     "output_type": "execute_result"
    }
   ],
   "source": [
    "'''\n",
    "Variables\n",
    "'''\n",
    "dog_name = \"spot\"\n",
    "dog_name"
   ]
  },
  {
   "cell_type": "code",
   "execution_count": 6,
   "id": "c805233c-c62e-447b-a4d9-9b34d8e74420",
   "metadata": {},
   "outputs": [
    {
     "data": {
      "text/plain": [
       "'rex'"
      ]
     },
     "execution_count": 6,
     "metadata": {},
     "output_type": "execute_result"
    }
   ],
   "source": [
    "dog_name = \"rex\"\n",
    "dog_name"
   ]
  },
  {
   "cell_type": "code",
   "execution_count": 7,
   "id": "5d6f479d-cf47-4ecd-a321-ae0f44f69415",
   "metadata": {},
   "outputs": [
    {
     "data": {
      "text/plain": [
       "'t-rex'"
      ]
     },
     "execution_count": 7,
     "metadata": {},
     "output_type": "execute_result"
    }
   ],
   "source": [
    "dog_name = \"t-\" + \"rex\"\n",
    "dog_name"
   ]
  },
  {
   "cell_type": "code",
   "execution_count": 8,
   "id": "4b89cb8c-6f41-4294-a13f-a7a71005fc0d",
   "metadata": {},
   "outputs": [
    {
     "data": {
      "text/plain": [
       "'large'"
      ]
     },
     "execution_count": 8,
     "metadata": {},
     "output_type": "execute_result"
    }
   ],
   "source": [
    "big = \"large\"\n",
    "big"
   ]
  },
  {
   "cell_type": "code",
   "execution_count": 9,
   "id": "d7be05a0-cadd-42a7-8f49-fc5a1e74969c",
   "metadata": {},
   "outputs": [
    {
     "data": {
      "text/plain": [
       "1000000"
      ]
     },
     "execution_count": 9,
     "metadata": {},
     "output_type": "execute_result"
    }
   ],
   "source": [
    "big = 1000 * 1000\n",
    "big"
   ]
  },
  {
   "cell_type": "code",
   "execution_count": 10,
   "id": "6f066eb0-35bd-4365-9bb8-8c028d290ff8",
   "metadata": {},
   "outputs": [
    {
     "data": {
      "text/plain": [
       "()"
      ]
     },
     "execution_count": 10,
     "metadata": {},
     "output_type": "execute_result"
    }
   ],
   "source": [
    "big = ()\n",
    "big"
   ]
  },
  {
   "cell_type": "code",
   "execution_count": 11,
   "id": "d7948a02-7328-43e3-8528-cc1f26e7607a",
   "metadata": {},
   "outputs": [
    {
     "data": {
      "text/plain": [
       "2"
      ]
     },
     "execution_count": 11,
     "metadata": {},
     "output_type": "execute_result"
    }
   ],
   "source": [
    "'''\n",
    "basic math\n",
    "'''\n",
    "1+1"
   ]
  },
  {
   "cell_type": "code",
   "execution_count": 12,
   "id": "d7f124a3-e434-437b-bf0c-e6804f6c20bf",
   "metadata": {},
   "outputs": [
    {
     "data": {
      "text/plain": [
       "8"
      ]
     },
     "execution_count": 12,
     "metadata": {},
     "output_type": "execute_result"
    }
   ],
   "source": [
    "10 - 2 "
   ]
  },
  {
   "cell_type": "code",
   "execution_count": 13,
   "id": "0b9df0fc-e1a2-4ad6-ace1-704688d6231b",
   "metadata": {},
   "outputs": [
    {
     "data": {
      "text/plain": [
       "20"
      ]
     },
     "execution_count": 13,
     "metadata": {},
     "output_type": "execute_result"
    }
   ],
   "source": [
    "5 * 4"
   ]
  },
  {
   "cell_type": "code",
   "execution_count": 14,
   "id": "439cfb3c-808a-46c2-9053-a68dea393abc",
   "metadata": {},
   "outputs": [
    {
     "data": {
      "text/plain": [
       "9"
      ]
     },
     "execution_count": 14,
     "metadata": {},
     "output_type": "execute_result"
    }
   ],
   "source": [
    "four = 4\n",
    "five = 5\n",
    "five + four"
   ]
  },
  {
   "cell_type": "code",
   "execution_count": 15,
   "id": "e5bfc414-95cc-403e-b0e7-f9647416d0a2",
   "metadata": {},
   "outputs": [
    {
     "data": {
      "text/plain": [
       "3.3333333333333335"
      ]
     },
     "execution_count": 15,
     "metadata": {},
     "output_type": "execute_result"
    }
   ],
   "source": [
    "10 / 3"
   ]
  },
  {
   "cell_type": "code",
   "execution_count": 16,
   "id": "867d1d15-9f27-4dc0-9de3-31bfe0f7d75c",
   "metadata": {},
   "outputs": [
    {
     "data": {
      "text/plain": [
       "3"
      ]
     },
     "execution_count": 16,
     "metadata": {},
     "output_type": "execute_result"
    }
   ],
   "source": [
    "10 // 3 # integer division (or floor dvision)"
   ]
  },
  {
   "cell_type": "code",
   "execution_count": 17,
   "id": "8ed487cc-6114-4ae5-b63e-95ef919f3a33",
   "metadata": {},
   "outputs": [
    {
     "data": {
      "text/plain": [
       "1000"
      ]
     },
     "execution_count": 17,
     "metadata": {},
     "output_type": "execute_result"
    }
   ],
   "source": [
    "10 ** 3 # 10 to the power of 3"
   ]
  },
  {
   "cell_type": "code",
   "execution_count": 19,
   "id": "e3339a6a-14b3-4fe8-9057-8c9bef4dd5fd",
   "metadata": {},
   "outputs": [
    {
     "data": {
      "text/plain": [
       "1"
      ]
     },
     "execution_count": 19,
     "metadata": {},
     "output_type": "execute_result"
    }
   ],
   "source": [
    "10 % 3 # Modulo / Remainders of division"
   ]
  },
  {
   "cell_type": "code",
   "execution_count": 21,
   "id": "8cc7e54c-5d10-4119-8b90-d3fa3a22bfa5",
   "metadata": {},
   "outputs": [
    {
     "data": {
      "text/plain": [
       "'bar'"
      ]
     },
     "execution_count": 21,
     "metadata": {},
     "output_type": "execute_result"
    }
   ],
   "source": [
    "# Comments\n",
    "''' This is also a comment'''\n",
    "'''\n",
    "so\n",
    "is\n",
    "this!\n",
    "'''\n",
    "\"\"\"\n",
    "And\n",
    "this\n",
    "too!\n",
    "\"\"\"\n",
    "\n",
    "# Commented, due to invalid syntax\n",
    "# /* This isnt a comment in Python */\n",
    "foo = \"bar\"\n",
    "foo"
   ]
  },
  {
   "cell_type": "code",
   "execution_count": 22,
   "id": "99d85562-d4b5-4391-a967-46b25feb1140",
   "metadata": {},
   "outputs": [
    {
     "name": "stdout",
     "output_type": "stream",
     "text": [
      "Hello World!\n"
     ]
    }
   ],
   "source": [
    "# print statements\n",
    "print(\"Hello World!\")"
   ]
  },
  {
   "cell_type": "code",
   "execution_count": 24,
   "id": "e4d510e4-baa0-4f7e-9169-dbfb0cad1dc1",
   "metadata": {},
   "outputs": [
    {
     "data": {
      "text/plain": [
       "range(0, 10)"
      ]
     },
     "execution_count": 24,
     "metadata": {},
     "output_type": "execute_result"
    }
   ],
   "source": [
    "'''\n",
    "Range\n",
    "'''\n",
    "range(0,10)"
   ]
  },
  {
   "cell_type": "code",
   "execution_count": 25,
   "id": "1e8a4e31-ae80-4b28-81d2-b5d6d359f88e",
   "metadata": {},
   "outputs": [
    {
     "data": {
      "text/plain": [
       "[0, 1, 2, 3, 4, 5, 6, 7, 8, 9]"
      ]
     },
     "execution_count": 25,
     "metadata": {},
     "output_type": "execute_result"
    }
   ],
   "source": [
    "list(range(10))"
   ]
  },
  {
   "cell_type": "code",
   "execution_count": 30,
   "id": "62ee5c7c-621f-4997-a501-6db7be2819ee",
   "metadata": {},
   "outputs": [
    {
     "name": "stdout",
     "output_type": "stream",
     "text": [
      "i is 35\n",
      "i is 35\n",
      "i is a multiple of 3\n"
     ]
    }
   ],
   "source": [
    "'''\n",
    "flow control: if/elif/else\n",
    "'''\n",
    "i = 35\n",
    "if i == 35:\n",
    "    print(\"i is 35\")\n",
    "\n",
    "i = 35\n",
    "if i == 45:\n",
    "    print(\"i is 45\")\n",
    "elif i == 35:\n",
    "    print(\"i is 35\")\n",
    "\n",
    "i = 0\n",
    "if i == 45:\n",
    "    print(\"i is 45\")\n",
    "elif i == 35:\n",
    "    print(\"i is 35\")\n",
    "elif i > 10:\n",
    "    print(\"i is greater than 10\")\n",
    "elif i % 3 == 0:\n",
    "    print(\"i is a multiple of 3\")\n",
    "else:\n",
    "    print(\"I dont't know much about i...\")"
   ]
  },
  {
   "cell_type": "code",
   "execution_count": 7,
   "id": "c3fdda8f-7bbf-47a8-b21e-84b2fc58eae7",
   "metadata": {},
   "outputs": [
    {
     "name": "stdout",
     "output_type": "stream",
     "text": [
      "found an 's' in a cat\n",
      "Some other cat\n"
     ]
    }
   ],
   "source": [
    "'''\n",
    "Nested ifs\n",
    "'''\n",
    "#cat = 'Sheba'\n",
    "cat = 'spot'\n",
    "if 's' in cat:\n",
    "    print(\"found an 's' in a cat\")\n",
    "    if cat == 'Sheba':           # this logic is flawed because s != S so Sheba will not pass the first if \n",
    "        print(\"I found Sheba!\")  # resulting in 'a cat without an s'\n",
    "    else:\n",
    "        print(\"Some other cat\")\n",
    "else:\n",
    "    print(\"a cat without an s\")"
   ]
  },
  {
   "cell_type": "code",
   "execution_count": 8,
   "id": "f228ad83-c202-44bf-8c94-1bd1c6a70cd3",
   "metadata": {},
   "outputs": [
    {
     "name": "stdout",
     "output_type": "stream",
     "text": [
      "0\n",
      "2\n",
      "4\n",
      "6\n",
      "8\n",
      "10\n",
      "12\n",
      "14\n",
      "16\n",
      "18\n"
     ]
    }
   ],
   "source": [
    "'''\n",
    "flow control: for loops\n",
    "'''\n",
    "x = 0\n",
    "for i in range(10):\n",
    "    x = i*2\n",
    "    print(x)"
   ]
  },
  {
   "cell_type": "code",
   "execution_count": 10,
   "id": "56a551de-fe8b-4d5b-9784-c1e54d9fbe56",
   "metadata": {},
   "outputs": [
    {
     "name": "stdout",
     "output_type": "stream",
     "text": [
      "0\n",
      "1\n",
      "2\n",
      "4\n",
      "5\n"
     ]
    }
   ],
   "source": [
    "'''\n",
    "flow control: for loops and the continue statement\n",
    "'''\n",
    "for i in range(6):\n",
    "    if i == 3:\n",
    "        continue\n",
    "    print(i)\n"
   ]
  },
  {
   "cell_type": "code",
   "execution_count": 12,
   "id": "585f0948-a6d7-4ca9-b9b6-289ab3e2af34",
   "metadata": {},
   "outputs": [
    {
     "name": "stdout",
     "output_type": "stream",
     "text": [
      "The count is 0\n",
      "The count is 1\n",
      "The count is 2\n"
     ]
    }
   ],
   "source": [
    "'''\n",
    "flow control: while loops\n",
    "'''\n",
    "count = 0\n",
    "while count < 3:\n",
    "    print(f\"The count is {count}\")\n",
    "    count += 1"
   ]
  },
  {
   "cell_type": "code",
   "execution_count": 13,
   "id": "6ec89133-ddd6-4bb8-bdca-33e82fd3e1df",
   "metadata": {},
   "outputs": [
    {
     "name": "stdout",
     "output_type": "stream",
     "text": [
      "The count is 0\n",
      "The count is 1\n",
      "The count is 2\n",
      "The count is 3\n",
      "The count is 4\n",
      "The count is 5\n",
      "The count is 6\n"
     ]
    }
   ],
   "source": [
    "'''\n",
    "flow control: while loops and the break statement\n",
    "'''\n",
    "count = 0\n",
    "while True:\n",
    "    print(f\"The count is {count}\")\n",
    "    if count > 5:\n",
    "        break\n",
    "    count += 1\n",
    "    "
   ]
  },
  {
   "cell_type": "code",
   "execution_count": 2,
   "id": "d2fc25fc-70b2-46c4-a6dc-daf6b97321e8",
   "metadata": {},
   "outputs": [
    {
     "name": "stdout",
     "output_type": "stream",
     "text": [
      "Gumby\n",
      "PlayDo\n",
      "Plato\n",
      "We tried to pop too many thinkers\n",
      "pop from empty list\n"
     ]
    }
   ],
   "source": [
    "'''\n",
    "Handling Exceptions (try / except)\n",
    "'''\n",
    "\n",
    "thinkers = ['Plato', 'PlayDo', 'Gumby']\n",
    "while True:\n",
    "    try:\n",
    "        thinker = thinkers.pop()\n",
    "        print(thinker)\n",
    "    except IndexError as e:\n",
    "        print(\"We tried to pop too many thinkers\")\n",
    "        print(e)\n",
    "        break"
   ]
  },
  {
   "cell_type": "code",
   "execution_count": 5,
   "id": "28f44881-3019-4002-a1ab-036c7ea2aaec",
   "metadata": {},
   "outputs": [
    {
     "data": {
      "text/plain": [
       "type"
      ]
     },
     "execution_count": 5,
     "metadata": {},
     "output_type": "execute_result"
    }
   ],
   "source": [
    "'''\n",
    "Objects\n",
    "'''\n",
    "# Define a class for fancy defining fancy cars\n",
    "class FancyCar():\n",
    "\tpass\n",
    "\n",
    "type(FancyCar)\n"
   ]
  },
  {
   "cell_type": "code",
   "execution_count": 6,
   "id": "f9e8b7f2-5c9b-40e5-918f-45c017c41640",
   "metadata": {},
   "outputs": [
    {
     "data": {
      "text/plain": [
       "__main__.FancyCar"
      ]
     },
     "execution_count": 6,
     "metadata": {},
     "output_type": "execute_result"
    }
   ],
   "source": [
    "# Instatiate a fancy car\n",
    "my_car = FancyCar()\n",
    "type(my_car)"
   ]
  },
  {
   "cell_type": "code",
   "execution_count": 2,
   "id": "90027994-9b37-426e-9ca6-d34606a244c5",
   "metadata": {},
   "outputs": [
    {
     "name": "stdout",
     "output_type": "stream",
     "text": [
      "Driving so fast!\n"
     ]
    }
   ],
   "source": [
    "'''\n",
    "Define a class for driving a fancy car\n",
    "'''\n",
    "class FancyCar():\n",
    "    wheels = 4\n",
    "    def driveFast(self):\n",
    "        print(\"Driving so fast!\")\n",
    "\n",
    "mycar = FancyCar()\n",
    "mycar.driveFast()"
   ]
  },
  {
   "cell_type": "code",
   "execution_count": 5,
   "id": "e2ca5f83-7670-4634-9cf7-52f72272be15",
   "metadata": {},
   "outputs": [
    {
     "name": "stdout",
     "output_type": "stream",
     "text": [
      "Hello, my name is Richard and I am 47 years old\n"
     ]
    }
   ],
   "source": [
    "'''\n",
    "Strings\n",
    "'''\n",
    "# Legacy code: Modulo strings\n",
    "print(\"Hello, my name is %s and I am %s years old\" % ('Richard', '47'))"
   ]
  },
  {
   "cell_type": "code",
   "execution_count": 6,
   "id": "01d2d675-125e-4092-9f25-fc18229b5148",
   "metadata": {},
   "outputs": [
    {
     "name": "stdout",
     "output_type": "stream",
     "text": [
      "first comes before second\n"
     ]
    }
   ],
   "source": [
    "# Format strings using .format() function\n",
    "print('{} comes before {}'.format('first', 'second'))"
   ]
  },
  {
   "cell_type": "code",
   "execution_count": 7,
   "id": "e72ef6bf-9cbf-428d-8b81-08d8f56e7f16",
   "metadata": {},
   "outputs": [
    {
     "name": "stdout",
     "output_type": "stream",
     "text": [
      "second comes after first but second comes before third\n"
     ]
    }
   ],
   "source": [
    "# Format strings with index numbers\n",
    "print('{1} comes after {0} but {1} comes before {2}'.format('first',\n",
    "                                                            'second',\n",
    "                                                            'third'))"
   ]
  },
  {
   "cell_type": "code",
   "execution_count": 11,
   "id": "d466868d-3446-4c04-8167-1d824b550630",
   "metadata": {},
   "outputs": [
    {
     "name": "stdout",
     "output_type": "stream",
     "text": [
      "\n",
      "Madagascar is an island\n",
      "Madagascar is off the coast of\n",
      "Africa in the Indian Ocean\n"
     ]
    }
   ],
   "source": [
    "# multiline .format() string using named variables\n",
    "print('''\n",
    "{country} is an island\n",
    "{country} is off the coast of\n",
    "{continent} in the {ocean}'''.format(ocean='Indian Ocean',\n",
    "            continent='Africa',\n",
    "            country='Madagascar'))"
   ]
  },
  {
   "cell_type": "code",
   "execution_count": 19,
   "id": "9df09d5a-2472-4d00-96ec-7cdaffa51075",
   "metadata": {},
   "outputs": [
    {
     "name": "stdout",
     "output_type": "stream",
     "text": [
      "|                     O||O                     |\n",
      "|<<<<<<<<<<<<<<<<<<<<<O||O>>>>>>>>>>>>>>>>>>>>>|\n"
     ]
    }
   ],
   "source": [
    "# .format() strings using format specifiers\n",
    "text = \"|{0:>22}||{0:<22}|\"\n",
    "print(text.format('O','O'))\n",
    "text = \"|{0:<>22}||{0:><22}|\"\n",
    "print(text.format('O','O'))"
   ]
  },
  {
   "cell_type": "code",
   "execution_count": 22,
   "id": "993c5cdf-ad05-46bc-9630-386dac676498",
   "metadata": {},
   "outputs": [
    {
     "name": "stdout",
     "output_type": "stream",
     "text": [
      "a is 1, b is 2, adding them together results in 3\n"
     ]
    }
   ],
   "source": [
    "# f-strings: The modern preferred default\n",
    "''' Python f-strings use the same formatting language as .format()'''\n",
    "a = 1\n",
    "b = 2\n",
    "print(f\"a is {a}, b is {b}, adding them together results in {a + b}\")\n"
   ]
  },
  {
   "cell_type": "code",
   "execution_count": 23,
   "id": "bd59bb92-d3bc-4df8-9879-b6ba90749a09",
   "metadata": {},
   "outputs": [],
   "source": [
    "#  Notes: I like f-strings as they more closely resemble rust's println!(\"Hello, {}\", name) or println!(\"Hello, {name}\")\n",
    "# You just have to remember to put the f before the quotes with Python's print(f\"my special string\")."
   ]
  },
  {
   "cell_type": "code",
   "execution_count": 1,
   "id": "b5988c1b-ff39-42c1-862c-ea4e7c873205",
   "metadata": {},
   "outputs": [
    {
     "data": {
      "text/plain": [
       "'/home/rforth/git/python/jupyter_notebooks'"
      ]
     },
     "execution_count": 1,
     "metadata": {},
     "output_type": "execute_result"
    }
   ],
   "source": [
    "'''\n",
    "Dealing with the Operating System with the os module\n",
    "'''\n",
    "\n",
    "import os\n",
    "\n",
    "os.getcwd()"
   ]
  },
  {
   "cell_type": "code",
   "execution_count": 2,
   "id": "5cd4b222-717a-4024-b465-0c3158acceac",
   "metadata": {},
   "outputs": [
    {
     "data": {
      "text/plain": [
       "'/tmp'"
      ]
     },
     "execution_count": 2,
     "metadata": {},
     "output_type": "execute_result"
    }
   ],
   "source": [
    "os.chdir('/tmp')\n",
    "os.getcwd()"
   ]
  },
  {
   "cell_type": "code",
   "execution_count": 4,
   "id": "5c52b328-9c15-4841-ab59-e1c68d2f28dd",
   "metadata": {},
   "outputs": [],
   "source": [
    "os.environ.get('LOGLEVEL')"
   ]
  },
  {
   "cell_type": "code",
   "execution_count": 5,
   "id": "e6748a11-faa2-4798-b193-8ca80c50b2fe",
   "metadata": {},
   "outputs": [
    {
     "data": {
      "text/plain": [
       "'DEBUG'"
      ]
     },
     "execution_count": 5,
     "metadata": {},
     "output_type": "execute_result"
    }
   ],
   "source": [
    "os.environ['LOGLEVEL'] = 'DEBUG'\n",
    "os.environ.get('LOGLEVEL')"
   ]
  },
  {
   "cell_type": "code",
   "execution_count": 6,
   "id": "9a45a502-17a4-41a3-b5b7-372490b62fe2",
   "metadata": {},
   "outputs": [
    {
     "data": {
      "text/plain": [
       "'rforth'"
      ]
     },
     "execution_count": 6,
     "metadata": {},
     "output_type": "execute_result"
    }
   ],
   "source": [
    "os.getlogin()"
   ]
  },
  {
   "cell_type": "code",
   "execution_count": 15,
   "id": "4b4616b1-61ba-417f-a783-cc1a45ff12ef",
   "metadata": {},
   "outputs": [],
   "source": [
    "'''\n",
    "spawn processes with the subprocess module\n",
    "'''\n",
    "import os\n",
    "os.chdir('/home/rforth/git/python/cli-tools')\n",
    "import subprocess\n",
    "cp = subprocess.run(['ls', '-l'],\n",
    "                    capture_output=True,\n",
    "                    universal_newlines=True)"
   ]
  },
  {
   "cell_type": "code",
   "execution_count": 16,
   "id": "ee0a8dfb-b3de-4b84-86d7-2ccc85ff0212",
   "metadata": {},
   "outputs": [
    {
     "data": {
      "text/plain": [
       "'total 8\\n-rwxrwxr-x 1 rforth rforth 968 Aug 13 13:50 parsing_with_sys.argv.py\\n-rwxrwxr-x 1 rforth rforth 304 Aug 13 12:03 using_sys.argv.py\\n'"
      ]
     },
     "execution_count": 16,
     "metadata": {},
     "output_type": "execute_result"
    }
   ],
   "source": [
    "cp.stdout"
   ]
  },
  {
   "cell_type": "code",
   "execution_count": null,
   "id": "5ecfb6c0-dc25-400f-97da-a34cdc011b03",
   "metadata": {},
   "outputs": [],
   "source": [
    "'''\n",
    "Notes for git management, if you try something and want to\n",
    "discard the changes, in GitHub Desktop right-click on the\n",
    "changed file and choose 'discard changes'.\n",
    "\n",
    "On linux run git restore <file>\n",
    "\n",
    "Ive had to do this on Windows tonight as it appears that subprocess doesnt work on windows, i get errors\n",
    "'''"
   ]
  }
 ],
 "metadata": {
  "kernelspec": {
   "display_name": "Python 3 (ipykernel)",
   "language": "python",
   "name": "python3"
  },
  "language_info": {
   "codemirror_mode": {
    "name": "ipython",
    "version": 3
   },
   "file_extension": ".py",
   "mimetype": "text/x-python",
   "name": "python",
   "nbconvert_exporter": "python",
   "pygments_lexer": "ipython3",
   "version": "3.13.5"
  }
 },
 "nbformat": 4,
 "nbformat_minor": 5
}
